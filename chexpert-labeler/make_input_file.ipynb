{
 "cells": [
  {
   "cell_type": "code",
   "execution_count": 16,
   "metadata": {},
   "outputs": [],
   "source": [
    "from pathlib import Path\n",
    "import json\n",
    "import csv"
   ]
  },
  {
   "cell_type": "code",
   "execution_count": 15,
   "metadata": {},
   "outputs": [],
   "source": [
    "INPUT_PATH = Path('/home/edlab/dylee/performer_cxr_i2t/i2t_base/checkpoints/epoch=000008_best_val_bleu_0.299_0.178_0.113_0.078_top_p_thres_0.9_tempr_0.7.json')\n",
    "GT_OUTPUT_PATH = 'GT_' + INPUT_PATH.stem + '.csv'\n",
    "GEN_OUTPUT_PATH = 'GEN_' + INPUT_PATH.stem + '.csv'"
   ]
  },
  {
   "cell_type": "code",
   "execution_count": 10,
   "metadata": {},
   "outputs": [],
   "source": [
    "with open(INPUT_PATH, 'r') as f:\n",
    "    data = json.load(f)"
   ]
  },
  {
   "cell_type": "code",
   "execution_count": 17,
   "metadata": {},
   "outputs": [],
   "source": [
    "f_gt = open(GT_OUTPUT_PATH, 'w')\n",
    "wr_gt = csv.writer(f_gt)\n",
    "\n",
    "f_gen = open(GEN_OUTPUT_PATH, 'w')\n",
    "wr_gen = csv.writer(f_gen)\n",
    "\n",
    "for study_id in data.keys():\n",
    "    wr_gt.writerow(\n",
    "        [data[study_id]['GT_text']]\n",
    "    )\n",
    "    wr_gen.writerow(\n",
    "        [data[study_id]['gen_text']]\n",
    "    )\n",
    "\n",
    "f_gt.close()\n",
    "f_gen.close()\n",
    "\n",
    "    "
   ]
  },
  {
   "cell_type": "code",
   "execution_count": null,
   "metadata": {},
   "outputs": [],
   "source": []
  }
 ],
 "metadata": {
  "interpreter": {
   "hash": "003ebc954f4e4337eacc31d962c11c22edc103fba8027d5d52b90e69ce733dc1"
  },
  "kernelspec": {
   "display_name": "Python 3.8.10 64-bit ('performer': conda)",
   "name": "python3"
  },
  "language_info": {
   "codemirror_mode": {
    "name": "ipython",
    "version": 3
   },
   "file_extension": ".py",
   "mimetype": "text/x-python",
   "name": "python",
   "nbconvert_exporter": "python",
   "pygments_lexer": "ipython3",
   "version": "3.8.10"
  },
  "orig_nbformat": 4
 },
 "nbformat": 4,
 "nbformat_minor": 2
}
