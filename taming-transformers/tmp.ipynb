{
 "cells": [
  {
   "cell_type": "code",
   "execution_count": 1,
   "metadata": {},
   "outputs": [],
   "source": [
    "from pathlib import Path"
   ]
  },
  {
   "cell_type": "code",
   "execution_count": 30,
   "metadata": {},
   "outputs": [],
   "source": [
    "path = Path('data/ffhq')   #/home/dylee/taming-transformers/data/ffhq"
   ]
  },
  {
   "cell_type": "code",
   "execution_count": 32,
   "metadata": {},
   "outputs": [],
   "source": [
    "path_list=list(path.glob('**/*.png'))"
   ]
  },
  {
   "cell_type": "code",
   "execution_count": 33,
   "metadata": {},
   "outputs": [],
   "source": [
    "file_name_list = [path.stem for path in path_list ]"
   ]
  },
  {
   "cell_type": "code",
   "execution_count": 35,
   "metadata": {},
   "outputs": [
    {
     "data": {
      "text/plain": [
       "1000"
      ]
     },
     "execution_count": 35,
     "metadata": {},
     "output_type": "execute_result"
    }
   ],
   "source": [
    "file_name_list"
   ]
  },
  {
   "cell_type": "code",
   "execution_count": 38,
   "metadata": {},
   "outputs": [],
   "source": [
    "with open('ffhqtrain_sub.txt', 'w') as f:\n",
    "    for file_name in file_name_list[:800]:\n",
    "        f.write(file_name + '.png' + '\\n')"
   ]
  },
  {
   "cell_type": "code",
   "execution_count": 39,
   "metadata": {},
   "outputs": [],
   "source": [
    "with open('ffhqvalidation_sub.txt', 'w') as f:\n",
    "    for file_name in file_name_list[800:]:\n",
    "        f.write(file_name + '.png' + '\\n')"
   ]
  },
  {
   "cell_type": "code",
   "execution_count": null,
   "metadata": {},
   "outputs": [],
   "source": []
  },
  {
   "cell_type": "markdown",
   "metadata": {},
   "source": [
    "# MimicCXR"
   ]
  },
  {
   "cell_type": "code",
   "execution_count": 1,
   "metadata": {},
   "outputs": [],
   "source": [
    "from pathlib import Path\n",
    "import pandas as pd\n",
    "import csv\n",
    "import os"
   ]
  },
  {
   "cell_type": "code",
   "execution_count": 2,
   "metadata": {},
   "outputs": [],
   "source": [
    "root = Path('/home/edlab/dylee/physionet.org/files/mimic-cxr-jpg/2.0.0')"
   ]
  },
  {
   "cell_type": "code",
   "execution_count": 3,
   "metadata": {},
   "outputs": [],
   "source": [
    "split_file_dir = root / 'mimic-cxr-2.0.0-split.csv'"
   ]
  },
  {
   "cell_type": "code",
   "execution_count": 4,
   "metadata": {},
   "outputs": [
    {
     "data": {
      "text/plain": [
       "'/home/edlab/dylee/physionet.org/files/mimic-cxr-jpg/2.0.0/mimic-cxr-2.0.0-split.csv'"
      ]
     },
     "execution_count": 4,
     "metadata": {},
     "output_type": "execute_result"
    }
   ],
   "source": [
    "str(split_file_dir)"
   ]
  },
  {
   "cell_type": "code",
   "execution_count": 35,
   "metadata": {},
   "outputs": [],
   "source": [
    "# The dataset contains 377,110 JPG format images\n",
    "f = open(str(split_file_dir), 'r')\n",
    "rdr = csv.reader(f)\n",
    "\n",
    "trainset = []\n",
    "valset = []\n",
    "testset = []\n",
    "others = []\n",
    "num = 0\n",
    "for i, line in enumerate(rdr):\n",
    "    if i == 0: continue\n",
    "    subject_id = 'p'+line[2]\n",
    "    study_id = 's'+line[1]\n",
    "    filename = line[0]+'.jpg'\n",
    "    split = line[3]\n",
    "\n",
    "    if split == 'train':\n",
    "        trainset.append(\n",
    "            os.path.join( subject_id[:3], subject_id, study_id, filename )\n",
    "        )\n",
    "    elif split == 'validate':\n",
    "        valset.append(\n",
    "            os.path.join( subject_id[:3], subject_id, study_id, filename )\n",
    "        )\n",
    "    elif split == 'test':\n",
    "        testset.append(\n",
    "            os.path.join( subject_id[:3], subject_id, study_id, filename )\n",
    "        )\n",
    "    else: \n",
    "        others.append(\n",
    "            line\n",
    "        )\n",
    "    num = num + 1\n",
    "f.close()\n"
   ]
  },
  {
   "cell_type": "code",
   "execution_count": 36,
   "metadata": {},
   "outputs": [
    {
     "data": {
      "text/plain": [
       "368960"
      ]
     },
     "execution_count": 36,
     "metadata": {},
     "output_type": "execute_result"
    }
   ],
   "source": [
    "len(trainset)"
   ]
  },
  {
   "cell_type": "code",
   "execution_count": 37,
   "metadata": {},
   "outputs": [
    {
     "data": {
      "text/plain": [
       "2991"
      ]
     },
     "execution_count": 37,
     "metadata": {},
     "output_type": "execute_result"
    }
   ],
   "source": [
    "len(valset)"
   ]
  },
  {
   "cell_type": "code",
   "execution_count": 38,
   "metadata": {},
   "outputs": [
    {
     "data": {
      "text/plain": [
       "5159"
      ]
     },
     "execution_count": 38,
     "metadata": {},
     "output_type": "execute_result"
    }
   ],
   "source": [
    "len(testset)"
   ]
  },
  {
   "cell_type": "code",
   "execution_count": 39,
   "metadata": {},
   "outputs": [
    {
     "data": {
      "text/plain": [
       "377110"
      ]
     },
     "execution_count": 39,
     "metadata": {},
     "output_type": "execute_result"
    }
   ],
   "source": [
    "len(trainset) + len(valset) + len(testset)"
   ]
  },
  {
   "cell_type": "code",
   "execution_count": 40,
   "metadata": {},
   "outputs": [
    {
     "data": {
      "text/plain": [
       "True"
      ]
     },
     "execution_count": 40,
     "metadata": {},
     "output_type": "execute_result"
    }
   ],
   "source": [
    "num == (len(trainset) + len(valset) + len(testset))"
   ]
  },
  {
   "cell_type": "code",
   "execution_count": 41,
   "metadata": {},
   "outputs": [
    {
     "data": {
      "text/plain": [
       "377110"
      ]
     },
     "execution_count": 41,
     "metadata": {},
     "output_type": "execute_result"
    }
   ],
   "source": [
    "num"
   ]
  },
  {
   "cell_type": "code",
   "execution_count": 44,
   "metadata": {},
   "outputs": [],
   "source": [
    "with open('mimiccxrtrain.txt', 'w')as f:\n",
    "    for i in range(len(trainset)):\n",
    "        line = trainset[i] + '\\n'\n",
    "        f.write(line)"
   ]
  },
  {
   "cell_type": "code",
   "execution_count": 45,
   "metadata": {},
   "outputs": [],
   "source": [
    "devset = valset + testset"
   ]
  },
  {
   "cell_type": "code",
   "execution_count": 46,
   "metadata": {},
   "outputs": [
    {
     "data": {
      "text/plain": [
       "8150"
      ]
     },
     "execution_count": 46,
     "metadata": {},
     "output_type": "execute_result"
    }
   ],
   "source": [
    "len(devset)"
   ]
  },
  {
   "cell_type": "code",
   "execution_count": 47,
   "metadata": {},
   "outputs": [],
   "source": [
    "with open('mimiccxrvalidation.txt', 'w')as f:\n",
    "    for i in range(len(devset)):\n",
    "        line = devset[i] + '\\n'\n",
    "        f.write(line)"
   ]
  },
  {
   "cell_type": "markdown",
   "metadata": {},
   "source": [
    "# Resizing"
   ]
  },
  {
   "cell_type": "code",
   "execution_count": 1,
   "metadata": {},
   "outputs": [],
   "source": [
    "from tqdm import tqdm\n",
    "import numpy as np\n",
    "import albumentations\n",
    "from PIL import Image\n",
    "import os\n",
    "root = '/home/edlab/dylee/physionet.org/files/mimic-cxr-jpg/2.0.0/files'\n",
    "newroot = '/home/edlab/dylee/physionet.org/files/mimic-cxr-jpg/2.0.0/resized'"
   ]
  },
  {
   "cell_type": "code",
   "execution_count": 2,
   "metadata": {},
   "outputs": [],
   "source": [
    "f = open('data/mimiccxrtrain.txt', 'r')\n",
    "trainfiles = f.read().splitlines()    # f.readlines()하면 맨 뒤 \\n도 붙어 있는데 이건 없네\n",
    "f.close()\n",
    "\n",
    "f = open('data/mimiccxrvalidation.txt', 'r')\n",
    "valfiles = f.read().splitlines()    # f.readlines()하면 맨 뒤 \\n도 붙어 있는데 이건 없네\n",
    "f.close()"
   ]
  },
  {
   "cell_type": "code",
   "execution_count": 3,
   "metadata": {},
   "outputs": [],
   "source": [
    "rescaler = albumentations.SmallestMaxSize(max_size = 256)    # Rescale an image so that minimum side is equal to max_size, keeping the aspect ratio of the initial image.\n",
    "cropper = albumentations.CenterCrop(height=256, width=256)\n",
    "preprocessor = albumentations.Compose([rescaler, cropper])   # input으로 numpy array만 받는다"
   ]
  },
  {
   "cell_type": "code",
   "execution_count": 4,
   "metadata": {},
   "outputs": [],
   "source": [
    "def preprocess_image(image_path):\n",
    "    image = Image.open(image_path)   # PIL format\n",
    "    if not image.mode == \"RGB\":\n",
    "        image = image.convert(\"RGB\")\n",
    "    image = np.array(image).astype(np.uint8)         # value 0 ~ 255  [H, W, C]\n",
    "    image = preprocessor(image=image)[\"image\"]  # albumentations의 output: {'image': numpy.ndarray(256,256,3)}  uint8\n",
    "    return image   # ndarray (256, 256, 3)  uint8"
   ]
  },
  {
   "cell_type": "code",
   "execution_count": null,
   "metadata": {},
   "outputs": [],
   "source": [
    "for filepath in tqdm(trainfiles):\n",
    "    image = preprocess_image( os.path.join(root, filepath) )  # ndarray (256, 256, 3)  uint8\n",
    "    newpath = os.path.join(newroot, filepath)\n",
    "    os.makedirs( os.path.split(newpath)[0], exist_ok=True )   # os.path.split(path): 폴더부분과 파일부분을 서로 잘라준다. os.path.join의 반대\n",
    "    Image.fromarray(image).save(newpath)"
   ]
  },
  {
   "cell_type": "markdown",
   "metadata": {},
   "source": [
    "# Checking"
   ]
  },
  {
   "cell_type": "code",
   "execution_count": 4,
   "metadata": {},
   "outputs": [],
   "source": [
    "from pathlib import Path"
   ]
  },
  {
   "cell_type": "code",
   "execution_count": 5,
   "metadata": {},
   "outputs": [],
   "source": [
    "path = Path('/home/edlab/dylee/physionet.org/files/mimic-cxr-jpg/2.0.0/files')"
   ]
  },
  {
   "cell_type": "code",
   "execution_count": 6,
   "metadata": {},
   "outputs": [],
   "source": [
    "path_list=list(path.glob('**/*.jpg'))"
   ]
  },
  {
   "cell_type": "code",
   "execution_count": 7,
   "metadata": {},
   "outputs": [
    {
     "data": {
      "text/plain": [
       "377110"
      ]
     },
     "execution_count": 7,
     "metadata": {},
     "output_type": "execute_result"
    }
   ],
   "source": [
    "len(path_list)"
   ]
  },
  {
   "cell_type": "code",
   "execution_count": 8,
   "metadata": {},
   "outputs": [],
   "source": [
    "path = Path('/home/edlab/dylee/physionet.org/files/mimic-cxr-jpg/2.0.0/resized')"
   ]
  },
  {
   "cell_type": "code",
   "execution_count": 9,
   "metadata": {},
   "outputs": [],
   "source": [
    "path_list=list(path.glob('**/*.jpg'))"
   ]
  },
  {
   "cell_type": "code",
   "execution_count": 10,
   "metadata": {},
   "outputs": [
    {
     "data": {
      "text/plain": [
       "377110"
      ]
     },
     "execution_count": 10,
     "metadata": {},
     "output_type": "execute_result"
    }
   ],
   "source": [
    "len(path_list)"
   ]
  },
  {
   "cell_type": "code",
   "execution_count": null,
   "metadata": {},
   "outputs": [],
   "source": []
  }
 ],
 "metadata": {
  "interpreter": {
   "hash": "6c46252a0b9b52d11745b5f52b665cce5dae604fe18755ba2bffba17d035e1d2"
  },
  "kernelspec": {
   "display_name": "Python 3.8.5 64-bit ('taming': conda)",
   "name": "python3"
  },
  "language_info": {
   "codemirror_mode": {
    "name": "ipython",
    "version": 3
   },
   "file_extension": ".py",
   "mimetype": "text/x-python",
   "name": "python",
   "nbconvert_exporter": "python",
   "pygments_lexer": "ipython3",
   "version": "3.8.5"
  },
  "orig_nbformat": 2
 },
 "nbformat": 4,
 "nbformat_minor": 2
}
